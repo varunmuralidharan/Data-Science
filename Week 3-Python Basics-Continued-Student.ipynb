{
 "cells": [
  {
   "cell_type": "markdown",
   "metadata": {
    "collapsed": true
   },
   "source": [
    "# Programming for Data Science (Python)"
   ]
  },
  {
   "cell_type": "markdown",
   "metadata": {},
   "source": [
    "## In this session, we will learn:\n",
    "<p>•\tFlow control</p>\n",
    "<p>•\tMore on datatypes</p>"
   ]
  },
  {
   "cell_type": "code",
   "execution_count": null,
   "metadata": {},
   "outputs": [],
   "source": [
    "from IPython.core.interactiveshell import InteractiveShell\n",
    "InteractiveShell.ast_node_interactivity = \"all\""
   ]
  },
  {
   "cell_type": "markdown",
   "metadata": {},
   "source": [
    "### 1. while True loops forever unless a break statement is used."
   ]
  },
  {
   "cell_type": "code",
   "execution_count": null,
   "metadata": {},
   "outputs": [],
   "source": [
    "#use while TRUE to ensure that the user enters only characters for names.\n"
   ]
  },
  {
   "cell_type": "code",
   "execution_count": null,
   "metadata": {},
   "outputs": [],
   "source": [
    "#Let's revisit our sandwich problem. Instead of saying goodbye when the customer input is wrong, we keep asking\n",
    "#them to make a selection until they get it right.\n",
    "\n",
    "print(\"Welcome to Little Sandwich. Please make your selection.\")\n",
    "sandwichtype=input(\"'c'for cheese and 'v' for veggie\\n\")\n",
    "\n",
    "if sandwichtype.lower()=='c':\n",
    "    print(\"Please select your cheese:\\n\")\n",
    "    cheesetype=input(\"'s' for Swiss and 'a' for American\\n\")\n",
    "    if cheesetype.lower()=='s':\n",
    "        print(\"Here is your Swiss cheese sandwich. Thank you.\")\n",
    "    elif cheesetype.lower()=='a':\n",
    "        print(\"Here is your American cheese sandwich. Thank you.\")\n",
    "    else:\n",
    "        print(\"Sorry, we do not have this type of cheese. Goodbye.\")\n",
    "elif sandwichtype.lower()=='v':\n",
    "    print(\"Here is your veggie sandwich. Thank you.\")\n",
    "else:\n",
    "    print(\"Sorry, we do not have this type of sandwich. Goodbye.\")\n",
    "print(\"Hi, welcome to the sandwich shop. Please select a sandwich.\\n\")"
   ]
  },
  {
   "cell_type": "code",
   "execution_count": null,
   "metadata": {},
   "outputs": [],
   "source": [
    "#Let's try another way of nesting the conditions and loops\n"
   ]
  },
  {
   "cell_type": "code",
   "execution_count": null,
   "metadata": {},
   "outputs": [],
   "source": [
    "#to allow entering product names until the user types in \"done\"\n"
   ]
  },
  {
   "cell_type": "markdown",
   "metadata": {},
   "source": [
    "### 2. while loop with conditions"
   ]
  },
  {
   "cell_type": "code",
   "execution_count": null,
   "metadata": {},
   "outputs": [],
   "source": [
    "# Ask the user to input a number. If the user enters a number is multiple of 3, a winner; otherwise, no; \n",
    "# The user can continue to play for any number of times, but should be given a chance for the user to quit.\n"
   ]
  },
  {
   "cell_type": "markdown",
   "metadata": {},
   "source": [
    "### 3. for loop"
   ]
  },
  {
   "cell_type": "code",
   "execution_count": null,
   "metadata": {},
   "outputs": [],
   "source": [
    "# to print out all items in the product list, one item at a time\n"
   ]
  },
  {
   "cell_type": "code",
   "execution_count": null,
   "metadata": {},
   "outputs": [],
   "source": [
    "# Allow a user to type in a combination of user name and password up to three attempts. Remind the user if\n",
    "# the combination is wrong.\n"
   ]
  },
  {
   "cell_type": "code",
   "execution_count": null,
   "metadata": {},
   "outputs": [],
   "source": [
    "#To print the username/password pair from the dictionary\n"
   ]
  },
  {
   "cell_type": "code",
   "execution_count": null,
   "metadata": {},
   "outputs": [],
   "source": [
    "# write a function to compare two lists. Return True if they have at list one item in common.\n"
   ]
  },
  {
   "cell_type": "code",
   "execution_count": null,
   "metadata": {},
   "outputs": [],
   "source": [
    "# if we want to pick out the common items\n"
   ]
  },
  {
   "cell_type": "code",
   "execution_count": null,
   "metadata": {},
   "outputs": [],
   "source": [
    "#Take a string and calculate the number of letters and digits\n"
   ]
  },
  {
   "cell_type": "code",
   "execution_count": null,
   "metadata": {},
   "outputs": [],
   "source": [
    "#Create a game of Tic-tac-toe\n",
    "theBoard = {'top-L': ' ', 'top-M': ' ', 'top-R': ' ', 'mid-L': ' ', 'mid-M': ' ',\n",
    "'mid-R': ' ', 'low-L': ' ', 'low-M': ' ', 'low-R': ' '}\n",
    "\n",
    "def printBoard(board):\n",
    "            print(board['top-L'] + '|' + board['top-M'] + '|' + board['top-R'])\n",
    "            print('-+-+-')\n",
    "            print(board['mid-L'] + '|' + board['mid-M'] + '|' + board['mid-R'])\n",
    "            print('-+-+-')\n",
    "            print(board['low-L'] + '|' + board['low-M'] + '|' + board['low-R'])\n"
   ]
  },
  {
   "cell_type": "markdown",
   "metadata": {},
   "source": [
    "### 4. tuple"
   ]
  },
  {
   "cell_type": "code",
   "execution_count": null,
   "metadata": {},
   "outputs": [],
   "source": [
    "#create a tuple\n",
    "\n",
    "#tuples are immutable, so you can not add new elements\n",
    "#using merge of tuples with the + operator you can add an element and it will create a new tuple\n",
    "\n",
    "#adding items with index\n",
    "\n",
    "#converting the tuple to list\n",
    "\n",
    "#add items to a list\n",
    "\n",
    "#convert tuple to a string\n"
   ]
  },
  {
   "cell_type": "markdown",
   "metadata": {},
   "source": [
    "### 5. sets: no duplicated items, no order, mutable with add(),update(),etc"
   ]
  },
  {
   "cell_type": "code",
   "execution_count": 1,
   "metadata": {},
   "outputs": [
    {
     "name": "stdout",
     "output_type": "stream",
     "text": [
      "set()\n",
      "{0, 1, 2, 3, 4}\n",
      "0\n",
      "1\n",
      "2\n",
      "3\n",
      "4\n"
     ]
    }
   ],
   "source": [
    "#Create a new empty set \n",
    "\n",
    "#Create a non empty set\n",
    "\n",
    "#iterate set elements\n"
   ]
  },
  {
   "cell_type": "code",
   "execution_count": null,
   "metadata": {},
   "outputs": [],
   "source": [
    "#to add elements to a set\n",
    "#A new empty set\n",
    "\n",
    "# add() is to add one item\n",
    "\n",
    "#To add multiple items, have to use update()\n"
   ]
  },
  {
   "cell_type": "markdown",
   "metadata": {},
   "source": [
    "### 6. Date and time"
   ]
  },
  {
   "cell_type": "code",
   "execution_count": null,
   "metadata": {
    "scrolled": false
   },
   "outputs": [],
   "source": [
    "# Write a Python script to display times\n",
    "import time\n",
    "import datetime\n",
    "#a) Current date and time\n",
    "\n",
    "#b) Current year\n",
    "\n",
    "#c) Month of year\n",
    "\n",
    "#d) Week number of the year\n",
    "\n",
    "#e) Weekday of the week\n",
    "\n",
    "#f) Day of year\n",
    "\n",
    "#g) Day of the month\n",
    "\n",
    "#h) Day of week\n"
   ]
  },
  {
   "cell_type": "code",
   "execution_count": null,
   "metadata": {},
   "outputs": [],
   "source": [
    "help(datetime.date.strftime)"
   ]
  }
 ],
 "metadata": {
  "kernelspec": {
   "display_name": "Python 3",
   "language": "python",
   "name": "python3"
  },
  "language_info": {
   "codemirror_mode": {
    "name": "ipython",
    "version": 3
   },
   "file_extension": ".py",
   "mimetype": "text/x-python",
   "name": "python",
   "nbconvert_exporter": "python",
   "pygments_lexer": "ipython3",
   "version": "3.6.5"
  }
 },
 "nbformat": 4,
 "nbformat_minor": 2
}
