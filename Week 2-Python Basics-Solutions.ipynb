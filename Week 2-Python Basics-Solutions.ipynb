{
 "cells": [
  {
   "cell_type": "markdown",
   "metadata": {
    "collapsed": true
   },
   "source": [
    "# Programming for Data Science (Python)"
   ]
  },
  {
   "cell_type": "markdown",
   "metadata": {},
   "source": [
    "In this session, we will learn:\n",
    "•\tData types\n",
    "•\tDefine functions\n",
    "•\tControl flow tools\n",
    "\n"
   ]
  },
  {
   "cell_type": "code",
   "execution_count": 9,
   "metadata": {
    "collapsed": true
   },
   "outputs": [],
   "source": [
    "from IPython.core.interactiveshell import InteractiveShell\n",
    "InteractiveShell.ast_node_interactivity = \"all\""
   ]
  },
  {
   "cell_type": "markdown",
   "metadata": {},
   "source": [
    "1. Continue with lists"
   ]
  },
  {
   "cell_type": "code",
   "execution_count": 2,
   "metadata": {},
   "outputs": [
    {
     "data": {
      "text/plain": [
       "['apple', ' pear', ' mango', ' orange']"
      ]
     },
     "execution_count": 2,
     "metadata": {},
     "output_type": "execute_result"
    }
   ],
   "source": [
    "#Read in a string that is separated with comma and turn it into a list\n",
    "mystr = \"apple, pear, mango, orange\"\n",
    "mylist = mystr.split(\",\")\n",
    "mylist"
   ]
  },
  {
   "cell_type": "code",
   "execution_count": 3,
   "metadata": {},
   "outputs": [
    {
     "data": {
      "text/plain": [
       "['apple', ' pear', ' mango', ' orange', ['strawberry', 'melon']]"
      ]
     },
     "execution_count": 3,
     "metadata": {},
     "output_type": "execute_result"
    }
   ],
   "source": [
    "#Make changes to a list - append\n",
    "mylist.append(['strawberry','melon'])\n",
    "mylist"
   ]
  },
  {
   "cell_type": "code",
   "execution_count": 4,
   "metadata": {
    "scrolled": true
   },
   "outputs": [
    {
     "data": {
      "text/plain": [
       "['apple',\n",
       " ' pear',\n",
       " ' mango',\n",
       " ' orange',\n",
       " ['strawberry', 'melon'],\n",
       " 'banana',\n",
       " 'grape']"
      ]
     },
     "execution_count": 4,
     "metadata": {},
     "output_type": "execute_result"
    }
   ],
   "source": [
    "#Make changes to a list - extend\n",
    "mylist.extend(['banana','grape'])\n",
    "mylist"
   ]
  },
  {
   "cell_type": "code",
   "execution_count": 5,
   "metadata": {},
   "outputs": [
    {
     "data": {
      "text/plain": [
       "['apple',\n",
       " 'starfruit',\n",
       " ' pear',\n",
       " ' mango',\n",
       " ' orange',\n",
       " ['strawberry', 'melon'],\n",
       " 'banana',\n",
       " 'grape']"
      ]
     },
     "execution_count": 5,
     "metadata": {},
     "output_type": "execute_result"
    }
   ],
   "source": [
    "#Make changes to a list - insert\n",
    "mylist.insert(1, 'starfruit')\n",
    "mylist"
   ]
  },
  {
   "cell_type": "code",
   "execution_count": 6,
   "metadata": {},
   "outputs": [
    {
     "data": {
      "text/plain": [
       "['coffee',\n",
       " 'tea',\n",
       " 'apple',\n",
       " 'starfruit',\n",
       " ' pear',\n",
       " ' mango',\n",
       " ' orange',\n",
       " ['strawberry', 'melon'],\n",
       " 'banana',\n",
       " 'grape']"
      ]
     },
     "execution_count": 6,
     "metadata": {},
     "output_type": "execute_result"
    }
   ],
   "source": [
    "#Make changes to a list - concatenate\n",
    "newlist = ['coffee', 'tea']\n",
    "newlist+mylist"
   ]
  },
  {
   "cell_type": "code",
   "execution_count": 11,
   "metadata": {
    "scrolled": true
   },
   "outputs": [
    {
     "data": {
      "text/plain": [
       "['apple', 'starfruit']"
      ]
     },
     "execution_count": 11,
     "metadata": {},
     "output_type": "execute_result"
    }
   ],
   "source": [
    "#Make changes to a list - del, pop, remove\n",
    "del mylist[3]\n",
    "mylist.pop(2)\n",
    "mylist.remove('grape')\n",
    "mylist"
   ]
  },
  {
   "cell_type": "code",
   "execution_count": 15,
   "metadata": {},
   "outputs": [
    {
     "data": {
      "text/plain": [
       "2"
      ]
     },
     "execution_count": 15,
     "metadata": {},
     "output_type": "execute_result"
    },
    {
     "data": {
      "text/plain": [
       "['apple', 'starfruit']"
      ]
     },
     "execution_count": 15,
     "metadata": {},
     "output_type": "execute_result"
    },
    {
     "data": {
      "text/plain": [
       "['starfruit', 'apple']"
      ]
     },
     "execution_count": 15,
     "metadata": {},
     "output_type": "execute_result"
    }
   ],
   "source": [
    "#Some useful functions\n",
    "len(mylist)\n",
    "mylist.sort()\n",
    "mylist\n",
    "mylist.sort(reverse = True)\n",
    "mylist"
   ]
  },
  {
   "cell_type": "code",
   "execution_count": 16,
   "metadata": {
    "scrolled": true
   },
   "outputs": [
    {
     "data": {
      "text/plain": [
       "['apple', 'starfruit']"
      ]
     },
     "execution_count": 16,
     "metadata": {},
     "output_type": "execute_result"
    }
   ],
   "source": [
    "#Some useful functions\n",
    "mylist.reverse()\n",
    "mylist"
   ]
  },
  {
   "cell_type": "code",
   "execution_count": 19,
   "metadata": {},
   "outputs": [
    {
     "data": {
      "text/plain": [
       "True"
      ]
     },
     "execution_count": 19,
     "metadata": {},
     "output_type": "execute_result"
    },
    {
     "data": {
      "text/plain": [
       "False"
      ]
     },
     "execution_count": 19,
     "metadata": {},
     "output_type": "execute_result"
    },
    {
     "data": {
      "text/plain": [
       "0"
      ]
     },
     "execution_count": 19,
     "metadata": {},
     "output_type": "execute_result"
    }
   ],
   "source": [
    "#Some useful functions\n",
    "'apple' in mylist\n",
    "'apple' not in mylist\n",
    "mylist.index('apple')"
   ]
  },
  {
   "cell_type": "markdown",
   "metadata": {},
   "source": [
    "2. dictionary: dictionary contains a sequence of key:value pairs."
   ]
  },
  {
   "cell_type": "code",
   "execution_count": 20,
   "metadata": {},
   "outputs": [
    {
     "data": {
      "text/plain": [
       "{'Peter': 94.0, 'Susan': 87.0, 'Tina': 99.9}"
      ]
     },
     "execution_count": 20,
     "metadata": {},
     "output_type": "execute_result"
    }
   ],
   "source": [
    "# To create a dictionary\n",
    "gradebook = {}\n",
    "gradebook['Susan'] = 87.0\n",
    "gradebook['Peter'] = 94.0\n",
    "gradebook['Tina'] = 99.9\n",
    "gradebook"
   ]
  },
  {
   "cell_type": "code",
   "execution_count": 21,
   "metadata": {},
   "outputs": [
    {
     "data": {
      "text/plain": [
       "{'Peter': 94.0, 'Susan': 87.0, 'Tina': [99.9, 95.7]}"
      ]
     },
     "execution_count": 21,
     "metadata": {},
     "output_type": "execute_result"
    }
   ],
   "source": [
    "#To change an element\n",
    "gradebook['Tina'] = [99.9, 95.7]\n",
    "gradebook"
   ]
  },
  {
   "cell_type": "code",
   "execution_count": 22,
   "metadata": {},
   "outputs": [
    {
     "data": {
      "text/plain": [
       "{'Joe': 90.0, 'Peter': 94.0, 'Susan': 87.0, 'Tina': [99.9, 95.7]}"
      ]
     },
     "execution_count": 22,
     "metadata": {},
     "output_type": "execute_result"
    }
   ],
   "source": [
    "# To add an element to a dictionary\n",
    "gradebook.update({'Joe':90.0})\n",
    "gradebook"
   ]
  },
  {
   "cell_type": "code",
   "execution_count": 23,
   "metadata": {},
   "outputs": [
    {
     "data": {
      "text/plain": [
       "{1: 10, 2: 20, 3: 30, 4: 40, 5: 60, 6: 60}"
      ]
     },
     "execution_count": 23,
     "metadata": {},
     "output_type": "execute_result"
    }
   ],
   "source": [
    "#Could you concatenate three dictionaries together?\n",
    "dict1 = {1:10,2:20}\n",
    "dict2 = {3:30,4:40}\n",
    "dict3 = {5:60,6:60}\n",
    "\n",
    "dict4 = {}\n",
    "\n",
    "for d in (dict1, dict2, dict3):\n",
    "    dict4.update(d)\n",
    "\n",
    "dict4\n",
    "\n"
   ]
  },
  {
   "cell_type": "markdown",
   "metadata": {},
   "source": [
    "3. Functions: "
   ]
  },
  {
   "cell_type": "code",
   "execution_count": 26,
   "metadata": {},
   "outputs": [
    {
     "name": "stdout",
     "output_type": "stream",
     "text": [
      "Input a phrase: yes\n",
      "YES!\n"
     ]
    }
   ],
   "source": [
    "# define (def) a simple function called yell_it() and call the function\n",
    "def yell_it():\n",
    "    phrase = input(\"Input a phrase: \")\n",
    "    print(phrase.upper()+'!')   \n",
    "yell_it()"
   ]
  },
  {
   "cell_type": "code",
   "execution_count": 32,
   "metadata": {},
   "outputs": [
    {
     "name": "stdout",
     "output_type": "stream",
     "text": [
      "What do you want to yell: Dinner time!\n",
      "DINNER TIME!!\n"
     ]
    }
   ],
   "source": [
    "# define a function yell_this() that does the same, but take an argument (the input from users).\n",
    "def yell_this(words_to_yell):\n",
    "    print(words_to_yell.upper()+'!')\n",
    "\n",
    "words = input(\"What do you want to yell: \")\n",
    "yell_this(words)"
   ]
  },
  {
   "cell_type": "code",
   "execution_count": 31,
   "metadata": {},
   "outputs": [
    {
     "name": "stdout",
     "output_type": "stream",
     "text": [
      "YES!\n"
     ]
    }
   ],
   "source": [
    "#Set default value for arguments\n",
    "def yell_this(words_to_yell = 'yes'):\n",
    "     print(words_to_yell.upper()+'!')\n",
    "yell_this()"
   ]
  },
  {
   "cell_type": "code",
   "execution_count": 33,
   "metadata": {},
   "outputs": [
    {
     "name": "stdout",
     "output_type": "stream",
     "text": [
      "What do you want to yell: yes\n",
      "YES!\n"
     ]
    }
   ],
   "source": [
    "# Use keyword argument\n",
    "def yell_this(words_to_yell = 'yes'):\n",
    "     print(words_to_yell.upper()+'!')\n",
    "\n",
    "words = input(\"What do you want to yell: \")        \n",
    "yell_this(words_to_yell = words)"
   ]
  },
  {
   "cell_type": "code",
   "execution_count": 35,
   "metadata": {},
   "outputs": [
    {
     "name": "stdout",
     "output_type": "stream",
     "text": [
      "Please enter your name: Strange\n",
      "Doctor Strange\n"
     ]
    }
   ],
   "source": [
    "#define a function with a return value \n",
    "#create and call make_doctor() with full_name argument from user input - then print the return value\n",
    "def make_doctor(name):\n",
    "    Doctor = \"Doctor\"+\" \"+name\n",
    "    return Doctor\n",
    "\n",
    "full_name = input(\"Please enter your name: \")\n",
    "new_name = make_doctor(full_name)\n",
    "print(new_name)"
   ]
  },
  {
   "cell_type": "code",
   "execution_count": 36,
   "metadata": {
    "collapsed": true
   },
   "outputs": [],
   "source": [
    "# Now let's make a scheduler that takes the input from users and return \n",
    "# define a function that gets the first and last names of the user and return the full name\n",
    "def get_name():\n",
    "    first = input(\"Please enter your first name: \")\n",
    "    last = input(\"Please enter your last name: \")\n",
    "    return first.capitalize()+last.capitalize()\n",
    "def get_datetime():\n",
    "    date = input(\"Please enter the date for the event (e.g. 1/23/2019: \")\n",
    "    time = input(\"Please enter the time for the event (e.g. 9:00am \")\n",
    "    return date+\" at \"+time\n",
    "def get_title():\n",
    "    event = input(\"Please enter the title of the event: \")\n",
    "    return event.title()\n",
    "def format_item(owner, datetime, event):\n",
    "    return 'Event title: '+event+\"\\nDate-time: \"+datetime+\"\\nHost: \"+owner\n",
    "def scheduler():\n",
    "    owner = get_name()\n",
    "    datetime = get_datetime()\n",
    "    event = get_title()\n",
    "    item = format_item(owner, datetime, event)\n",
    "    return item"
   ]
  },
  {
   "cell_type": "code",
   "execution_count": 37,
   "metadata": {
    "scrolled": true
   },
   "outputs": [
    {
     "name": "stdout",
     "output_type": "stream",
     "text": [
      "Please enter your first name: Linig\n",
      "Please enter your last name: Ge\n",
      "Please enter the date for the event (e.g. 1/23/2019: 1/23/2019\n",
      "Please enter the time for the event (e.g. 9:00am Fun Coding\n",
      "Please enter the title of the event: fun coding\n"
     ]
    }
   ],
   "source": [
    "item = scheduler()\n",
    "print(item)"
   ]
  },
  {
   "cell_type": "code",
   "execution_count": 38,
   "metadata": {},
   "outputs": [
    {
     "name": "stdout",
     "output_type": "stream",
     "text": [
      "Event title: Fun Coding\n",
      "Date-time: 1/23/2019 at Fun Coding\n",
      "Host: LinigGe\n"
     ]
    }
   ],
   "source": [
    "print(item)"
   ]
  },
  {
   "cell_type": "markdown",
   "metadata": {},
   "source": [
    "4. Control flow - conditions with \"if, elif and else\""
   ]
  },
  {
   "cell_type": "code",
   "execution_count": 40,
   "metadata": {
    "scrolled": true
   },
   "outputs": [
    {
     "name": "stdout",
     "output_type": "stream",
     "text": [
      "True means do something\n",
      "Str1 is lower case\n"
     ]
    }
   ],
   "source": [
    "# for two cases\n",
    "if True:\n",
    "    print(\"True means do something\")\n",
    "else:\n",
    "    print(\"Not much to do\")\n",
    "    \n",
    "# if there are more than two conditions might happen, use elif\n",
    "\n",
    "# Test whether two strings are lowercased and print out the results, use function .islower()\n",
    "str1 = \"blood suger\"\n",
    "str2 = \"Candy\"\n",
    "if str1.islower() and str2.islower():\n",
    "    print(\"Both are lower case.\")\n",
    "elif str1.islower():\n",
    "    print(\"Str1 is lower case\")\n",
    "elif str2.islower():\n",
    "    print(\"Str2 is lower case\")\n",
    "else:\n",
    "    print(\"Neither is lower case\")\n"
   ]
  },
  {
   "cell_type": "markdown",
   "metadata": {},
   "source": [
    "Example: to order a sandwich\n",
    "<img src=\"flow.png\">"
   ]
  },
  {
   "cell_type": "code",
   "execution_count": null,
   "metadata": {
    "collapsed": true
   },
   "outputs": [],
   "source": [
    "# We also consider the case that the user input is invalid.\n",
    "print(\"Welcome to Sandwich Python. Please make your selection.\")\n",
    "sandwichtype = input(\"'c' for cheese and 'v' for veggie\\n\")\n",
    "\n",
    "if sandwichtype.lower() == 'c':\n",
    "    print(\"Please select your cheese:\\n\")\n",
    "    cheesetype = input(\"'s' for Swiss cheese and 'a' for American\\n\")\n",
    "    if cheesetype.lower() == 's':\n",
    "        \n",
    "    elif cheesetype.lower() == 'a':\n",
    "    \n",
    "    else:\n",
    "        print(\"Sorry. Goodbye.\")\n",
    "elif sandwichtype.lower() == 'v':\n",
    "    print(\"Here is your veggie sandwich. Thank you.\")\n",
    "else:\n",
    "    print(\"Sorry. Goodbye.\")\n",
    "    "
   ]
  },
  {
   "cell_type": "markdown",
   "metadata": {},
   "source": [
    "5. Control flow - while True"
   ]
  },
  {
   "cell_type": "code",
   "execution_count": null,
   "metadata": {
    "collapsed": true
   },
   "outputs": [],
   "source": [
    "#while True loops forever unless a break statement is used\n",
    "#use while TRUE to ensure that the user enters only characters for names.\n"
   ]
  },
  {
   "cell_type": "code",
   "execution_count": null,
   "metadata": {
    "collapsed": true
   },
   "outputs": [],
   "source": [
    "#Let's revisit our sandwich problem. Instead of saying goodbye when the customer input is wrong, we keep asking\n",
    "#them to make a selection until they get it right.\n"
   ]
  },
  {
   "cell_type": "code",
   "execution_count": null,
   "metadata": {
    "collapsed": true
   },
   "outputs": [],
   "source": [
    "#to allow entering product name until the user types in \"Done\"\n"
   ]
  },
  {
   "cell_type": "markdown",
   "metadata": {},
   "source": [
    "6. Control flow - while (conditions)"
   ]
  },
  {
   "cell_type": "code",
   "execution_count": null,
   "metadata": {
    "collapsed": true
   },
   "outputs": [],
   "source": [
    "# if the user enters a number is multiple of 3, a winner; otherwise, no; Give a chance for the user to quit.\n"
   ]
  },
  {
   "cell_type": "markdown",
   "metadata": {},
   "source": [
    "7. Control flow - for loop"
   ]
  },
  {
   "cell_type": "code",
   "execution_count": null,
   "metadata": {
    "collapsed": true
   },
   "outputs": [],
   "source": [
    "# Allow a user to type in a combination of user name and password up to three attempts. Remind the user if\n",
    "# the combination is wrong.\n"
   ]
  },
  {
   "cell_type": "code",
   "execution_count": null,
   "metadata": {
    "collapsed": true
   },
   "outputs": [],
   "source": [
    "#Print out the dictionary\n"
   ]
  }
 ],
 "metadata": {
  "kernelspec": {
   "display_name": "Python 3",
   "language": "python",
   "name": "python3"
  },
  "language_info": {
   "codemirror_mode": {
    "name": "ipython",
    "version": 3
   },
   "file_extension": ".py",
   "mimetype": "text/x-python",
   "name": "python",
   "nbconvert_exporter": "python",
   "pygments_lexer": "ipython3",
   "version": "3.6.0"
  }
 },
 "nbformat": 4,
 "nbformat_minor": 2
}
